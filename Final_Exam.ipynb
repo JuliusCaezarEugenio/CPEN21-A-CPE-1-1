{
  "nbformat": 4,
  "nbformat_minor": 0,
  "metadata": {
    "colab": {
      "name": "Final Exam.ipynb",
      "provenance": [],
      "authorship_tag": "ABX9TyP47kvDANt4CoaQKozBe60X",
      "include_colab_link": true
    },
    "kernelspec": {
      "name": "python3",
      "display_name": "Python 3"
    },
    "language_info": {
      "name": "python"
    }
  },
  "cells": [
    {
      "cell_type": "markdown",
      "metadata": {
        "id": "view-in-github",
        "colab_type": "text"
      },
      "source": [
        "<a href=\"https://colab.research.google.com/github/JuliusCaezarEugenio/CPEN21-A-CPE-1-1/blob/main/Final_Exam.ipynb\" target=\"_parent\"><img src=\"https://colab.research.google.com/assets/colab-badge.svg\" alt=\"Open In Colab\"/></a>"
      ]
    },
    {
      "cell_type": "markdown",
      "source": [
        "##Final Exam"
      ],
      "metadata": {
        "id": "EajMxksk7zf4"
      }
    },
    {
      "cell_type": "markdown",
      "source": [
        "***Problem Statement #1***: Create a Python Program that will produce an output of sum of 10 numbers less than 5 using FOR LOOP statement."
      ],
      "metadata": {
        "id": "cPoepBTJ9XpR"
      }
    },
    {
      "cell_type": "code",
      "source": [
        "sum = 0\n",
        "num = [-5, -4, -3, -2, -1, 0, 1, 2, 3, 4]\n",
        "for x in (num):\n",
        "  sum = sum + x\n",
        "print (\"The sum of 10 numbers less than five is\",sum)"
      ],
      "metadata": {
        "colab": {
          "base_uri": "https://localhost:8080/"
        },
        "id": "EpDJCn5j73XO",
        "outputId": "3ff33f04-9197-4958-f165-a50eb7eb41c1"
      },
      "execution_count": 11,
      "outputs": [
        {
          "output_type": "stream",
          "name": "stdout",
          "text": [
            "The sum of 10 numbers less than five is -5\n"
          ]
        }
      ]
    },
    {
      "cell_type": "markdown",
      "source": [
        "***Problem Statement #2***: Create a Python program that will produce accept five numbers and determine the sum of\n",
        "first and last number among the five numbers entered using WHILE LOOP"
      ],
      "metadata": {
        "id": "lawaTGQ2CSOJ"
      }
    },
    {
      "cell_type": "code",
      "source": [
        "num = int(input(\"1st number: \"))\n",
        "while (num !=0):\n",
        "  l = int(input(\"2nd number: \"))\n",
        "  o = int(input(\"3rd number: \"))\n",
        "  v = int(input(\"4th number: \"))\n",
        "  e = int(input(\"5th number: \"))\n",
        "  break\n",
        "  x = e\n",
        "while (x!=0):\n",
        "  x = num + e \n",
        "  print (\"The sum of first and last number is\", x)\n",
        "  num -=1\n",
        "  break"
      ],
      "metadata": {
        "colab": {
          "base_uri": "https://localhost:8080/"
        },
        "id": "l0geq548CaBh",
        "outputId": "cbc033dd-3c46-4ecc-b33e-5f74f44241fe"
      },
      "execution_count": 33,
      "outputs": [
        {
          "output_type": "stream",
          "name": "stdout",
          "text": [
            "1st number: 1\n",
            "2nd number: 2\n",
            "3rd number: 3\n",
            "4th number: 4\n",
            "5th number: 5\n",
            "The sum of first and last number is 6\n"
          ]
        }
      ]
    },
    {
      "cell_type": "markdown",
      "source": [
        "***Problem Statement #3***: Create a Python program to calculate student grades. It accepts a numerical grade as input\n",
        "and it will display the character grade as output based on the given scale: (Use Nested-IF-Else\n",
        "statement)"
      ],
      "metadata": {
        "id": "QbU7n-qAHzP6"
      }
    },
    {
      "cell_type": "code",
      "source": [
        "grade = float(input(\"Enter numerical grade: \"))\n",
        "if grade >=90:\n",
        "  print (\"Character Grade: A\")\n",
        "elif grade <=89 and grade >80:\n",
        "  print (\"Character Grade: B\")\n",
        "elif grade <=79 and grade >70:\n",
        "  print (\"Character Grade: C\")\n",
        "elif grade <= 69 and grade >60:\n",
        "  print (\"Character Grade: D\")\n",
        "else:\n",
        "  print (\"Character Grade: F\")\n",
        "\n",
        "\n",
        "  "
      ],
      "metadata": {
        "colab": {
          "base_uri": "https://localhost:8080/"
        },
        "id": "KarZClyIH7B6",
        "outputId": "9f919bb2-2438-4934-c1da-8dd55a88352d"
      },
      "execution_count": 2,
      "outputs": [
        {
          "output_type": "stream",
          "name": "stdout",
          "text": [
            "Enter numerical grade: 98.5\n",
            "Character Grade: A\n"
          ]
        }
      ]
    }
  ]
}