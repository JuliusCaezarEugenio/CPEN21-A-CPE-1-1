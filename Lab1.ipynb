{
  "nbformat": 4,
  "nbformat_minor": 0,
  "metadata": {
    "colab": {
      "name": "Lab1.ipynb",
      "provenance": [],
      "authorship_tag": "ABX9TyPnLhf7Ld20opnLTdrEYnrY",
      "include_colab_link": true
    },
    "kernelspec": {
      "name": "python3",
      "display_name": "Python 3"
    },
    "language_info": {
      "name": "python"
    }
  },
  "cells": [
    {
      "cell_type": "markdown",
      "metadata": {
        "id": "view-in-github",
        "colab_type": "text"
      },
      "source": [
        "<a href=\"https://colab.research.google.com/github/JuliusCaezarEugenio/CPEN21-A-CPE-1-1/blob/main/Lab1.ipynb\" target=\"_parent\"><img src=\"https://colab.research.google.com/assets/colab-badge.svg\" alt=\"Open In Colab\"/></a>"
      ]
    },
    {
      "cell_type": "markdown",
      "metadata": {
        "id": "B4EyXsrIU_MO"
      },
      "source": [
        "##Laboratory 1"
      ]
    },
    {
      "cell_type": "code",
      "metadata": {
        "colab": {
          "base_uri": "https://localhost:8080/"
        },
        "id": "FSJsDu-vXX1y",
        "outputId": "68e67e99-7d82-4a75-e1d4-4edacb49a48e"
      },
      "source": [
        "print (\"Welcome to Python Programming\")"
      ],
      "execution_count": 6,
      "outputs": [
        {
          "output_type": "stream",
          "name": "stdout",
          "text": [
            "Welcome to Python Programming\n"
          ]
        }
      ]
    },
    {
      "cell_type": "code",
      "metadata": {
        "colab": {
          "base_uri": "https://localhost:8080/"
        },
        "id": "vSUMpYw8W4_b",
        "outputId": "8456812c-4260-4a15-ee0e-8fb168fe2152"
      },
      "source": [
        "a = \"Julius Caezar R. Eugenio\"\n",
        "b = \"Phase 8, Block 2, Lot 22-A, Parklane, General Trias, Cavite\"\n",
        "c=  \"18 years old\"\n",
        "\n",
        "print (\"Name: \"+a)\n",
        "print (\"Address: \"+ b)\n",
        "print (\"Age: \"+ c)\n"
      ],
      "execution_count": 12,
      "outputs": [
        {
          "output_type": "stream",
          "name": "stdout",
          "text": [
            "Name: Julius Caezar R. Eugenio\n",
            "Address: Phase 8, Block 2, Lot 22-A, Parklane, General Trias, Cavite\n",
            "Age: 18 years old\n"
          ]
        }
      ]
    }
  ]
}