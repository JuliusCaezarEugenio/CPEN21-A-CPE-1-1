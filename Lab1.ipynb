{
  "nbformat": 4,
  "nbformat_minor": 0,
  "metadata": {
    "colab": {
      "name": "Lab1.ipynb",
      "provenance": [],
      "authorship_tag": "ABX9TyM2IcUlhur4u9EPtce1KQ8H",
      "include_colab_link": true
    },
    "kernelspec": {
      "name": "python3",
      "display_name": "Python 3"
    },
    "language_info": {
      "name": "python"
    }
  },
  "cells": [
    {
      "cell_type": "markdown",
      "metadata": {
        "id": "view-in-github",
        "colab_type": "text"
      },
      "source": [
        "<a href=\"https://colab.research.google.com/github/JuliusCaezarEugenio/CPEN21-A-CPE-1-1/blob/main/Lab1.ipynb\" target=\"_parent\"><img src=\"https://colab.research.google.com/assets/colab-badge.svg\" alt=\"Open In Colab\"/></a>"
      ]
    },
    {
      "cell_type": "markdown",
      "metadata": {
        "id": "B4EyXsrIU_MO"
      },
      "source": [
        "##Laboratory 1"
      ]
    },
    {
      "cell_type": "code",
      "metadata": {
        "colab": {
          "base_uri": "https://localhost:8080/"
        },
        "id": "FSJsDu-vXX1y",
        "outputId": "68e67e99-7d82-4a75-e1d4-4edacb49a48e"
      },
      "source": [
        "print (\"Welcome to Python Programming\")"
      ],
      "execution_count": 6,
      "outputs": [
        {
          "output_type": "stream",
          "name": "stdout",
          "text": [
            "Welcome to Python Programming\n"
          ]
        }
      ]
    },
    {
      "cell_type": "code",
      "metadata": {
        "colab": {
          "base_uri": "https://localhost:8080/"
        },
        "id": "vSUMpYw8W4_b",
        "outputId": "4f0f4afb-8b0f-4954-e6f4-d00175c1ce58"
      },
      "source": [
        "Name = \"Julius Caezar R. Eugenio\"\n",
        "Address = \"Phase 8, Block 2, Lot 22-A, Parklane, General Trias, Cavite\"\n",
        "Age = int(18)\n",
        "\n",
        "print (Name)\n",
        "print (Address)\n",
        "print (Age)\n"
      ],
      "execution_count": 7,
      "outputs": [
        {
          "output_type": "stream",
          "name": "stdout",
          "text": [
            "Julius Caezar R. Eugenio\n",
            "Phase 8, Block 2, Lot 22-A, Parklane, General Trias, Cavite\n",
            "18\n"
          ]
        }
      ]
    }
  ]
}