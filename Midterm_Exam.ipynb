{
  "nbformat": 4,
  "nbformat_minor": 0,
  "metadata": {
    "colab": {
      "name": "Midterm Exam.ipynb",
      "provenance": [],
      "authorship_tag": "ABX9TyNGIUCt+zGXVkfP9rE/x3bQ",
      "include_colab_link": true
    },
    "kernelspec": {
      "name": "python3",
      "display_name": "Python 3"
    },
    "language_info": {
      "name": "python"
    }
  },
  "cells": [
    {
      "cell_type": "markdown",
      "metadata": {
        "id": "view-in-github",
        "colab_type": "text"
      },
      "source": [
        "<a href=\"https://colab.research.google.com/github/JuliusCaezarEugenio/CPEN21-A-CPE-1-1/blob/main/Midterm_Exam.ipynb\" target=\"_parent\"><img src=\"https://colab.research.google.com/assets/colab-badge.svg\" alt=\"Open In Colab\"/></a>"
      ]
    },
    {
      "cell_type": "markdown",
      "metadata": {
        "id": "GiY1HGLQhu5X"
      },
      "source": [
        "##Midterm Exam"
      ]
    },
    {
      "cell_type": "markdown",
      "metadata": {
        "id": "3LtzHF4bl58E"
      },
      "source": [
        "####Problem Statement 1"
      ]
    },
    {
      "cell_type": "code",
      "metadata": {
        "colab": {
          "base_uri": "https://localhost:8080/"
        },
        "id": "O7cZtbgmhybc",
        "outputId": "46e78ebd-a220-481b-88fc-486a3991fa86"
      },
      "source": [
        "a= \"Julius Caezar R. Eugenio\"\n",
        "b= \"202101486\"\n",
        "c= \"18 years old\"\n",
        "d= \"November 17, 2002\"\n",
        "e= \"Parklane, General Trias, Cavite\"\n",
        "f= \"BS in Computer Engineering\"\n",
        "g= \"N/A\"\n",
        "\n",
        "\n",
        "print(\"Name:\" + a)\n",
        "print(\"Student Number:\" + b)\n",
        "print(\"Age: \"+ c)\n",
        "print(\"Birthday: \" + d)\n",
        "print(\"Address: \" +e)\n",
        "print(\"Course: \" + f)\n",
        "print(\"Last Sem GWA: \" + g)\n",
        "\n",
        "\n",
        "\n"
      ],
      "execution_count": 73,
      "outputs": [
        {
          "output_type": "stream",
          "name": "stdout",
          "text": [
            "Name:Julius Caezar R. Eugenio\n",
            "Student Number:202101486\n",
            "Age: 18 years old\n",
            "Birthday: November 17, 2002\n",
            "Address: Parklane, General Trias, Cavite\n",
            "Course: BS in Computer Engineering\n",
            "Last Sem GWA: N/A\n"
          ]
        }
      ]
    },
    {
      "cell_type": "markdown",
      "metadata": {
        "id": "HFHwXxOGncZ1"
      },
      "source": [
        "####Problem Statement 2"
      ]
    },
    {
      "cell_type": "code",
      "metadata": {
        "colab": {
          "base_uri": "https://localhost:8080/"
        },
        "id": "hyhAUmPUndgr",
        "outputId": "f999baa0-ad78-4866-da48-4e8e589e3975"
      },
      "source": [
        "n=4\n",
        "answ= \"Y\"\n",
        "\n",
        "print ((2<n) and (n<6))\n",
        "print ((2<n) or (n==6))\n",
        "print (not(2<n) or (n==6))\n",
        "print (not(n<6))\n",
        "print ((answ==\"Y\") or (answ==\"y\"))\n",
        "print ((answ==\"Y\") and (answ==\"y\"))\n",
        "print (not(answ==\"y\"))\n",
        "print ((2<n) and (n==5+1) or (answ==\"No\"))\n",
        "print (((n==2) and (n==7)) or (answ==\"Y\"))\n",
        "print (n==2) and ((n==7) or (answ==\"Y\"))\n"
      ],
      "execution_count": 76,
      "outputs": [
        {
          "output_type": "stream",
          "name": "stdout",
          "text": [
            "True\n",
            "True\n",
            "False\n",
            "False\n",
            "True\n",
            "False\n",
            "True\n",
            "False\n",
            "True\n",
            "False\n"
          ]
        }
      ]
    },
    {
      "cell_type": "markdown",
      "metadata": {
        "id": "zJPW-Ydol_EM"
      },
      "source": [
        "####Problem Statement 3"
      ]
    },
    {
      "cell_type": "code",
      "metadata": {
        "colab": {
          "base_uri": "https://localhost:8080/"
        },
        "id": "yikRy94CmFY2",
        "outputId": "ad932dbb-bb70-40a1-ed52-eb1798ade91a"
      },
      "source": [
        "x=2\n",
        "y=-3\n",
        "w=7\n",
        "z=-10\n",
        "\n",
        "print(x/y)\n",
        "print(w/y/x)\n",
        "print(z/y%x)\n",
        "print(x%-y*w)\n",
        "print(x%y)\n",
        "print(z%w-y/x*5+5)\n",
        "print(9-x%(2+y))\n",
        "print(z//w)\n",
        "print((2+y)**2)\n",
        "print(w/x*2)"
      ],
      "execution_count": 75,
      "outputs": [
        {
          "output_type": "stream",
          "name": "stdout",
          "text": [
            "-0.6666666666666666\n",
            "-1.1666666666666667\n",
            "1.3333333333333335\n",
            "14\n",
            "-1\n",
            "16.5\n",
            "9\n",
            "-2\n",
            "1\n",
            "7.0\n"
          ]
        }
      ]
    }
  ]
}