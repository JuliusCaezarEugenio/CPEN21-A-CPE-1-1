{
  "nbformat": 4,
  "nbformat_minor": 0,
  "metadata": {
    "colab": {
      "name": "Expressions and Operations.ipynb",
      "provenance": [],
      "authorship_tag": "ABX9TyMcQrEBQy6P4kyomfQeiqoY",
      "include_colab_link": true
    },
    "kernelspec": {
      "name": "python3",
      "display_name": "Python 3"
    },
    "language_info": {
      "name": "python"
    }
  },
  "cells": [
    {
      "cell_type": "markdown",
      "metadata": {
        "id": "view-in-github",
        "colab_type": "text"
      },
      "source": [
        "<a href=\"https://colab.research.google.com/github/JuliusCaezarEugenio/CPEN21-A-CPE-1-1/blob/main/Expressions_and_Operations.ipynb\" target=\"_parent\"><img src=\"https://colab.research.google.com/assets/colab-badge.svg\" alt=\"Open In Colab\"/></a>"
      ]
    },
    {
      "cell_type": "markdown",
      "metadata": {
        "id": "NAq9HX1Fega8"
      },
      "source": [
        "##Operations and Expressions in Python"
      ]
    },
    {
      "cell_type": "markdown",
      "metadata": {
        "id": "rKy_inEkemeS"
      },
      "source": [
        "###Boolean Operators\n",
        "\n",
        "- Booleans represents one of two values: True of Fales\n",
        "\n",
        "- When you evaluate two values, the Python evaluates and returns the Boolean answer:"
      ]
    },
    {
      "cell_type": "code",
      "metadata": {
        "colab": {
          "base_uri": "https://localhost:8080/"
        },
        "id": "qUe7WoUCfL1a",
        "outputId": "17ad6b1e-ddef-4a41-d35c-b9b5c26dc9d3"
      },
      "source": [
        "print (10>9)\n",
        "print (10<9)\n",
        "print (10==9)\n",
        "print (10!=9)"
      ],
      "execution_count": 54,
      "outputs": [
        {
          "output_type": "stream",
          "name": "stdout",
          "text": [
            "True\n",
            "False\n",
            "False\n",
            "True\n"
          ]
        }
      ]
    },
    {
      "cell_type": "markdown",
      "metadata": {
        "id": "NSpOvEXvgAsa"
      },
      "source": [
        "- the bool function allows you to evalute any value, and give you True or False in return,"
      ]
    },
    {
      "cell_type": "code",
      "metadata": {
        "colab": {
          "base_uri": "https://localhost:8080/"
        },
        "id": "l7J7x1ShgtH4",
        "outputId": "4e645a0c-0247-47a5-c347-01cf6fd30086"
      },
      "source": [
        "print (bool(True))\n",
        "print (bool(False))\n",
        "print (bool(1))\n",
        "print (bool(0))\n",
        "print (bool([]))\n",
        "print (bool(None))"
      ],
      "execution_count": 10,
      "outputs": [
        {
          "output_type": "stream",
          "name": "stdout",
          "text": [
            "True\n",
            "False\n",
            "True\n",
            "False\n",
            "False\n",
            "False\n"
          ]
        }
      ]
    },
    {
      "cell_type": "markdown",
      "metadata": {
        "id": "iHkCsC8Mho_Z"
      },
      "source": [
        "###Functions can Return a Boolean"
      ]
    },
    {
      "cell_type": "code",
      "metadata": {
        "colab": {
          "base_uri": "https://localhost:8080/"
        },
        "id": "bBlVF45ghuuq",
        "outputId": "b194223a-153f-4443-8085-531cccd9420b"
      },
      "source": [
        "def myFunction():return True\n",
        "print(myFunction())"
      ],
      "execution_count": 21,
      "outputs": [
        {
          "output_type": "stream",
          "name": "stdout",
          "text": [
            "True\n"
          ]
        }
      ]
    },
    {
      "cell_type": "code",
      "metadata": {
        "colab": {
          "base_uri": "https://localhost:8080/"
        },
        "id": "T2GOD_tIiO-P",
        "outputId": "2744d3cb-8cba-4bfe-8489-b9f91052f1af"
      },
      "source": [
        "#Boolean answer of a function\n",
        "def myFunction(): return True\n",
        "\n",
        "if myFunction():\n",
        "  print(\"Yes!\")\n",
        "else:\n",
        "    print(\"No!\")"
      ],
      "execution_count": 17,
      "outputs": [
        {
          "output_type": "stream",
          "name": "stdout",
          "text": [
            "Yes!\n"
          ]
        }
      ]
    },
    {
      "cell_type": "code",
      "metadata": {
        "colab": {
          "base_uri": "https://localhost:8080/"
        },
        "id": "RXOasGeBiqTY",
        "outputId": "5e4293b9-42c3-4b24-9c9f-91e4a356de56"
      },
      "source": [
        "a=6\n",
        "b=7\n",
        "print (a==b)\n",
        "print (a!=a)"
      ],
      "execution_count": 20,
      "outputs": [
        {
          "output_type": "stream",
          "name": "stdout",
          "text": [
            "False\n",
            "False\n"
          ]
        }
      ]
    },
    {
      "cell_type": "markdown",
      "metadata": {
        "id": "RXrUCH4Pjtp_"
      },
      "source": [
        "###Python Operators"
      ]
    },
    {
      "cell_type": "code",
      "metadata": {
        "colab": {
          "base_uri": "https://localhost:8080/"
        },
        "id": "6LJe9-Pvj8Wl",
        "outputId": "f9a04036-1530-4291-b502-90de76556c21"
      },
      "source": [
        "print (10+5)\n",
        "print (10-5)\n",
        "print (10*5)\n",
        "print (10/5)\n",
        "print (10//5)            #floor division (//) - shows the whole number only\n",
        "print (10%3)             #modulo - shows the remainder number\n",
        "print (10**2)            #concatenation - raise the number"
      ],
      "execution_count": 27,
      "outputs": [
        {
          "output_type": "stream",
          "name": "stdout",
          "text": [
            "15\n",
            "5\n",
            "50\n",
            "2.0\n",
            "2\n",
            "1\n",
            "100\n"
          ]
        }
      ]
    },
    {
      "cell_type": "markdown",
      "metadata": {
        "id": "3V0lqbXCk1-W"
      },
      "source": [
        "###Python Bitwise Operators \n",
        "\n",
        "- Bitwise operators work on bits and performs bit-by-bit operation. "
      ]
    },
    {
      "cell_type": "code",
      "metadata": {
        "colab": {
          "base_uri": "https://localhost:8080/"
        },
        "id": "Zm8DYF7snlGd",
        "outputId": "34cbb34c-2125-44a0-bb16-59426c3255ae"
      },
      "source": [
        "a=60           #0011 1100 , 0111 1000, 1111 0000\n",
        "b=13\n",
        "print (a&b)\n",
        "print (a|b)\n",
        "print (a<<1)\n",
        "print (a<<2)\n",
        "print (a>>1)   #0011 1100, 0001 1110 "
      ],
      "execution_count": 36,
      "outputs": [
        {
          "output_type": "stream",
          "name": "stdout",
          "text": [
            "12\n",
            "61\n",
            "120\n",
            "240\n",
            "30\n"
          ]
        }
      ]
    },
    {
      "cell_type": "code",
      "metadata": {
        "colab": {
          "base_uri": "https://localhost:8080/"
        },
        "id": "XQLC7CbAp9YJ",
        "outputId": "0d434cff-7f50-4821-ab50-5467b911ea09"
      },
      "source": [
        "a+=2      #same as a= a+2, a= 60+2, a=62\n",
        "print(a)"
      ],
      "execution_count": 37,
      "outputs": [
        {
          "output_type": "stream",
          "name": "stdout",
          "text": [
            "62\n"
          ]
        }
      ]
    },
    {
      "cell_type": "markdown",
      "metadata": {
        "id": "2vqbXzCIqe-Y"
      },
      "source": [
        "##Logical Operators\n",
        "\n",
        "- not or negations"
      ]
    },
    {
      "cell_type": "code",
      "metadata": {
        "colab": {
          "base_uri": "https://localhost:8080/"
        },
        "id": "k-9TQ3W0qjdF",
        "outputId": "f829f5c7-581e-4b93-d4c0-a88c6cbd4562"
      },
      "source": [
        "a=True\n",
        "b=False\n",
        "print (a and b)\n",
        "print (a or b)\n",
        "print (bool(a and b))"
      ],
      "execution_count": 46,
      "outputs": [
        {
          "output_type": "stream",
          "name": "stdout",
          "text": [
            "False\n",
            "True\n",
            "False\n"
          ]
        }
      ]
    },
    {
      "cell_type": "code",
      "metadata": {
        "colab": {
          "base_uri": "https://localhost:8080/"
        },
        "id": "kN9egbyFsKW0",
        "outputId": "7c2bcb0a-d379-4b64-c42b-d284ec33ffef"
      },
      "source": [
        "a=60\n",
        "b=13\n",
        "(a>b) and (a<b)\n",
        "(a>b) or (a<b)\n",
        "not(a>b)"
      ],
      "execution_count": 51,
      "outputs": [
        {
          "output_type": "execute_result",
          "data": {
            "text/plain": [
              "False"
            ]
          },
          "metadata": {},
          "execution_count": 51
        }
      ]
    },
    {
      "cell_type": "markdown",
      "metadata": {
        "id": "aJC2klQstaG8"
      },
      "source": [
        "###Identity Operators"
      ]
    },
    {
      "cell_type": "code",
      "metadata": {
        "colab": {
          "base_uri": "https://localhost:8080/"
        },
        "id": "PqoK6BZYsyBc",
        "outputId": "fe5b4d0e-2129-4d4f-9bae-38c823b1f0c5"
      },
      "source": [
        "print (a is b)\n",
        "print (a is not b)"
      ],
      "execution_count": 53,
      "outputs": [
        {
          "output_type": "stream",
          "name": "stdout",
          "text": [
            "False\n",
            "True\n"
          ]
        }
      ]
    }
  ]
}