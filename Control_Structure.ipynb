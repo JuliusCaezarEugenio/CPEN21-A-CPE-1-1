{
  "nbformat": 4,
  "nbformat_minor": 0,
  "metadata": {
    "colab": {
      "name": "Control Structure.ipynb",
      "provenance": [],
      "authorship_tag": "ABX9TyPKWoIoKqpyucIsRSMCEEP0",
      "include_colab_link": true
    },
    "kernelspec": {
      "name": "python3",
      "display_name": "Python 3"
    },
    "language_info": {
      "name": "python"
    }
  },
  "cells": [
    {
      "cell_type": "markdown",
      "metadata": {
        "id": "view-in-github",
        "colab_type": "text"
      },
      "source": [
        "<a href=\"https://colab.research.google.com/github/JuliusCaezarEugenio/CPEN21-A-CPE-1-1/blob/main/Control_Structure.ipynb\" target=\"_parent\"><img src=\"https://colab.research.google.com/assets/colab-badge.svg\" alt=\"Open In Colab\"/></a>"
      ]
    },
    {
      "cell_type": "markdown",
      "metadata": {
        "id": "g57h768WjAQb"
      },
      "source": [
        "##Conditional Statement in Python"
      ]
    },
    {
      "cell_type": "markdown",
      "metadata": {
        "id": "s82h6cz2lp2f"
      },
      "source": [
        "Introduction\n",
        "\n",
        "Conditional statements execute sequentially when there is no condition around the statements. If you put some condition ofr a block of statements, the execution flow may change based on the result evaluated"
      ]
    },
    {
      "cell_type": "markdown",
      "metadata": {
        "id": "kwD16uTql1K1"
      },
      "source": [
        "###Types Of Control Structure\n",
        "\n",
        "1. If Statement\n",
        "\n",
        "  \n",
        "  Example:"
      ]
    },
    {
      "cell_type": "code",
      "metadata": {
        "colab": {
          "base_uri": "https://localhost:8080/"
        },
        "id": "pfnObp6HmYtv",
        "outputId": "11c323e7-0cf4-4025-eff1-9648f1d3353a"
      },
      "source": [
        "a = 12\n",
        "b = 100 \n",
        "\n",
        "if b > a:\n",
        "  print (\"b is greater than a\")"
      ],
      "execution_count": null,
      "outputs": [
        {
          "output_type": "stream",
          "name": "stdout",
          "text": [
            "b is greater than a\n"
          ]
        }
      ]
    },
    {
      "cell_type": "markdown",
      "metadata": {
        "id": "Jk_AhNgXocuG"
      },
      "source": [
        "2. Elif Statement\n",
        "\n",
        "\n",
        "Example:\n",
        "\n"
      ]
    },
    {
      "cell_type": "code",
      "metadata": {
        "colab": {
          "base_uri": "https://localhost:8080/"
        },
        "id": "qlKG36hjollN",
        "outputId": "06fd0119-33d9-4604-fcbc-3ca8f822a7b4"
      },
      "source": [
        "a = 12\n",
        "b = 12\n",
        "\n",
        "if b > a:\n",
        "  print (\"b is greather than a\")\n",
        "\n",
        "elif a==b:\n",
        "    print(\" a is equal to b\")"
      ],
      "execution_count": null,
      "outputs": [
        {
          "output_type": "stream",
          "name": "stdout",
          "text": [
            " a is equal to b\n"
          ]
        }
      ]
    },
    {
      "cell_type": "markdown",
      "metadata": {
        "id": "AdlF0H0ppUf9"
      },
      "source": [
        "3. Else Statement\n",
        "\n",
        "Example:"
      ]
    },
    {
      "cell_type": "code",
      "metadata": {
        "colab": {
          "base_uri": "https://localhost:8080/"
        },
        "id": "fPbY6khcpXG3",
        "outputId": "72d158b9-ad5b-409e-c6bd-7230f67cca6f"
      },
      "source": [
        "a = 200\n",
        "b = 33\n",
        "if b > a:\n",
        "  print(\"b is greater than a\")\n",
        "\n",
        "elif a==b:\n",
        "  print(\"a and b are equal\")\n",
        "\n",
        "else:\n",
        "  print(\" b is less than a\")"
      ],
      "execution_count": null,
      "outputs": [
        {
          "output_type": "stream",
          "name": "stdout",
          "text": [
            " b is less than a\n"
          ]
        }
      ]
    },
    {
      "cell_type": "markdown",
      "metadata": {
        "id": "UI1OJZq1qVxP"
      },
      "source": [
        "4. Short Hand if Statement\n",
        "\n",
        "If you have only one statement to execute, you can put in on the same line as the if statement\n",
        "\n",
        "Example:"
      ]
    },
    {
      "cell_type": "code",
      "metadata": {
        "colab": {
          "base_uri": "https://localhost:8080/"
        },
        "id": "Ec82j2Y3qeLv",
        "outputId": "9423424a-cc83-4b15-e545-ed93dab9343c"
      },
      "source": [
        "if a>b: print (\"a is greater than b\")"
      ],
      "execution_count": null,
      "outputs": [
        {
          "output_type": "stream",
          "name": "stdout",
          "text": [
            "a is greater than b\n"
          ]
        }
      ]
    },
    {
      "cell_type": "markdown",
      "metadata": {
        "id": "jS8kqPHprH2_"
      },
      "source": [
        "5. Short hand If.. Else Statement\n",
        "\n",
        "If you have only one statement to execute, one for of, and one for else, you can put it all on the same line\n",
        "\n",
        "Example:"
      ]
    },
    {
      "cell_type": "code",
      "metadata": {
        "colab": {
          "base_uri": "https://localhost:8080/"
        },
        "id": "2DgFZyT7rQWc",
        "outputId": "f0bac2f0-7350-419b-d112-b78fcd962b23"
      },
      "source": [
        "print(\"a is greater than b\") if a>b else print(\"b is greater than a\") "
      ],
      "execution_count": null,
      "outputs": [
        {
          "output_type": "stream",
          "name": "stdout",
          "text": [
            "a is greater than b\n"
          ]
        }
      ]
    },
    {
      "cell_type": "markdown",
      "metadata": {
        "id": "VhK5afSOsCsF"
      },
      "source": [
        "### And-both conditions are true"
      ]
    },
    {
      "cell_type": "code",
      "metadata": {
        "colab": {
          "base_uri": "https://localhost:8080/"
        },
        "id": "NjkBef4Ssape",
        "outputId": "64a2631d-6fa9-4371-d02e-ed57e818d5ef"
      },
      "source": [
        "a = 200\n",
        "b = 33\n",
        "c = 500\n",
        "if a>b and c>a:\n",
        "  print(\"both conditions are true\")\n",
        "elif b<a and a>b:\n",
        "  print(\"a is larger than b\")\n",
        "else:\n",
        "  print(\"none of the above\")"
      ],
      "execution_count": null,
      "outputs": [
        {
          "output_type": "stream",
          "name": "stdout",
          "text": [
            "both conditions are true\n"
          ]
        }
      ]
    },
    {
      "cell_type": "markdown",
      "metadata": {
        "id": "UYv8N-TNvPrl"
      },
      "source": [
        "###Or Condition"
      ]
    },
    {
      "cell_type": "code",
      "metadata": {
        "colab": {
          "base_uri": "https://localhost:8080/"
        },
        "id": "eglrBzBrvUtW",
        "outputId": "b05682b3-9891-4325-90b1-c9a2943566d5"
      },
      "source": [
        "a = 200\n",
        "b = 33\n",
        "\n",
        "if a>b or c>a:\n",
        "  print(\"True\")\n",
        "elif b==b or a>b:\n",
        "  print(\"Absolutely True\")\n",
        "else:\n",
        "  print(\"Nothing to compare\")"
      ],
      "execution_count": null,
      "outputs": [
        {
          "output_type": "stream",
          "name": "stdout",
          "text": [
            "True\n"
          ]
        }
      ]
    },
    {
      "cell_type": "markdown",
      "metadata": {
        "id": "H5uYy1cgwjC2"
      },
      "source": [
        "###Nested If"
      ]
    },
    {
      "cell_type": "code",
      "metadata": {
        "colab": {
          "base_uri": "https://localhost:8080/"
        },
        "id": "dniA2tvnwkzk",
        "outputId": "4b2eed91-7dcf-496f-9f89-43cf3b2ae5bc"
      },
      "source": [
        "x = 41\n",
        "if x > 10:\n",
        "  print(\"Above ten\")\n",
        "  if x > 20:\n",
        "    print(\"and also above 20!\")\n",
        "else:\n",
        "  print(\"but not above 20\")\n"
      ],
      "execution_count": null,
      "outputs": [
        {
          "output_type": "stream",
          "name": "stdout",
          "text": [
            "Above ten\n",
            "and also above 20!\n"
          ]
        }
      ]
    },
    {
      "cell_type": "markdown",
      "metadata": {
        "id": "tVNQuJZDx8HY"
      },
      "source": [
        "Application of if..Else Statement\n",
        "\n",
        "Example 1\n",
        "\n",
        "Write a program that determines if the input age is qualified to vote or not. The qualifying age is 18 years old and above."
      ]
    },
    {
      "cell_type": "code",
      "metadata": {
        "id": "Sj1nXXAXyD6X",
        "colab": {
          "base_uri": "https://localhost:8080/"
        },
        "outputId": "51a9b075-b324-4682-a1bc-510e6c47abdd"
      },
      "source": [
        "age =int(input(\"Enter your age\"))\n",
        "if age>=18:\n",
        "  print(\"You are qualified to vote\")\n",
        "\n",
        "else:\n",
        "  print(\"You are still qualified wag ka papatalo\")"
      ],
      "execution_count": 32,
      "outputs": [
        {
          "output_type": "stream",
          "name": "stdout",
          "text": [
            "Enter your age18\n",
            "You are qualified to vote\n"
          ]
        }
      ]
    },
    {
      "cell_type": "markdown",
      "metadata": {
        "id": "PyEJJ6LPzPDE"
      },
      "source": [
        "Example 2\n",
        "\n",
        "Write a program that determines if the input number is POSITIVE, NEGATIVE, or Zero.\n",
        "\n"
      ]
    },
    {
      "cell_type": "code",
      "metadata": {
        "id": "1AZqB722zxq0",
        "colab": {
          "base_uri": "https://localhost:8080/"
        },
        "outputId": "e2e200c1-c821-4fd8-938b-73a080f8f8ff"
      },
      "source": [
        "number=int(input(\"Enter the number: \"))\n",
        "\n",
        "if number==0:\n",
        "  print(\"Zero\")\n",
        "elif number>0:\n",
        "  print(\"Positive\")\n",
        "else:\n",
        "  print(\"Negative\")"
      ],
      "execution_count": 33,
      "outputs": [
        {
          "output_type": "stream",
          "name": "stdout",
          "text": [
            "Enter the number: 18\n",
            "Positive\n"
          ]
        }
      ]
    },
    {
      "cell_type": "markdown",
      "metadata": {
        "id": "GwnvSR480XPs"
      },
      "source": [
        "Example 3\n",
        "\n",
        "Write a program to determine if the grades are:\n"
      ]
    },
    {
      "cell_type": "code",
      "metadata": {
        "colab": {
          "base_uri": "https://localhost:8080/"
        },
        "id": "7buTyTtE1FZU",
        "outputId": "83919e2b-7357-4ffe-9095-a082a2e994ca"
      },
      "source": [
        "grade = int(input(\"Enter your Grade: \"))\n",
        "\n",
        "if grade>=75:\n",
        "  print(\"Passed\")\n",
        "elif grade==74:\n",
        "  print(\"Remedial\")\n",
        "else:\n",
        "  print(\"Failed\")\n"
      ],
      "execution_count": 40,
      "outputs": [
        {
          "output_type": "stream",
          "name": "stdout",
          "text": [
            "Enter your Grade: 99\n",
            "Passed\n"
          ]
        }
      ]
    }
  ]
}